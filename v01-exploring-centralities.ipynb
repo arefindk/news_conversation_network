{
 "cells": [
  {
   "cell_type": "code",
   "execution_count": 2,
   "metadata": {
    "collapsed": true
   },
   "outputs": [],
   "source": [
    "import networkx as nx\n",
    "import json\n",
    "import numpy as np\n",
    "import matplotlib.pyplot as plt\n",
    "import csv\n",
    "from dateutil import parser\n",
    "import re\n",
    "\n",
    "import sys\n",
    "import math\n",
    "import igraph\n",
    "from numpy.linalg import lstsq\n",
    "from numpy import dot\n",
    "from scipy.cluster.vq import kmeans2, vq\n",
    "from scipy.linalg import norm\n",
    "from scipy.optimize import minimize\n",
    "from sklearn.decomposition import NMF\n",
    "from collections import defaultdict"
   ]
  },
  {
   "cell_type": "code",
   "execution_count": 3,
   "metadata": {
    "collapsed": true
   },
   "outputs": [],
   "source": [
    "def replace_list_to_string(string):\n",
    "    replacable_items = ['[', ']']\n",
    "    for item in replacable_items:\n",
    "        string = string.replace(item, '')\n",
    "    return string\n",
    "\n",
    "def convert_to_alpha_only(string):\n",
    "    '''\n",
    "    returns only alphabets and spaces from a string\n",
    "    '''\n",
    "    valids = re.sub(r\"[^\\sA-Za-z]+\", '', string)\n",
    "    return valids"
   ]
  },
  {
   "cell_type": "markdown",
   "metadata": {},
   "source": [
    "## Creating the network"
   ]
  },
  {
   "cell_type": "code",
   "execution_count": 4,
   "metadata": {},
   "outputs": [
    {
     "name": "stdout",
     "output_type": "stream",
     "text": [
      "count 50000\n",
      "count 100000\n",
      "count 150000\n",
      "count 200000\n",
      "count 250000\n"
     ]
    }
   ],
   "source": [
    "with open('./ignored_datasets/dhaka_tribune_statement_network.csv', 'r') as f:\n",
    "    reader = csv.reader(f, delimiter=\",\")\n",
    "    reader.next()\n",
    "    count = 0\n",
    "    news_net = nx.Graph()\n",
    "    for splitted_line in reader:\n",
    "        count += 1\n",
    "        time = parser.parse(splitted_line[1])\n",
    "        #print 'time', time\n",
    "        entity_1 = convert_to_alpha_only(splitted_line[2].lower())\n",
    "        #print entity_1\n",
    "        entity_1_type = splitted_line[3]\n",
    "        #print entity_1_type\n",
    "        entity_2 = convert_to_alpha_only(splitted_line[4].lower())\n",
    "        #print entity_2\n",
    "        entity_2_type = splitted_line[5]\n",
    "        #print entity_2_type\n",
    "        sentence = splitted_line[6]\n",
    "        #print sentence\n",
    "        original_tag = eval(replace_list_to_string(splitted_line[7]))\n",
    "        #print original_tag\n",
    "        naive_tag = eval(replace_list_to_string(splitted_line[8]))\n",
    "        #print naive_tag\n",
    "        keywords = eval(splitted_line[9])\n",
    "        #print keywords\n",
    "\n",
    "        ## create an undirected network between two actor in statement network\n",
    "        network_mix = ['PERSON']\n",
    "        if entity_1_type in network_mix and entity_2_type in network_mix:\n",
    "            news_net.add_edge(entity_1, entity_2)\n",
    "        \n",
    "        if count % 50000 == 0:\n",
    "            print 'count', count"
   ]
  },
  {
   "cell_type": "code",
   "execution_count": 5,
   "metadata": {},
   "outputs": [
    {
     "data": {
      "text/plain": [
       "11032"
      ]
     },
     "execution_count": 5,
     "metadata": {},
     "output_type": "execute_result"
    }
   ],
   "source": [
    "news_net.number_of_nodes()"
   ]
  },
  {
   "cell_type": "code",
   "execution_count": 57,
   "metadata": {
    "collapsed": true
   },
   "outputs": [],
   "source": [
    "def get_binned_distribution(values, number_of_bins = 20, log_binning = False, base = 10):\n",
    "    lower_bound = min(values)\n",
    "    upper_bound = max(values)\n",
    "    \n",
    "    if log_binning:\n",
    "        lower_bound = np.log10(lower_bound)/ np.log10(base) if lower_bound > 0 else -1\n",
    "        upper_bound = np.log10(upper_bound)/ np.log10(base)\n",
    "        bins = np.logspace(lower_bound, upper_bound, number_of_bins, base=base)\n",
    "    else:\n",
    "        bins = np.linspace(lower_bound, upper_bound, number_of_bins)\n",
    "    \n",
    "    ## Calculating histogram\n",
    "    y, _ = np.histogram(values, bins = bins, density = True)\n",
    "    \n",
    "    ## Now for each y we need to compute the value of x\n",
    "    x = bins[1:] - np.diff(bins) / 2.\n",
    "    \n",
    "    # sanity check for probability density\n",
    "    #print sum(map(lambda a,b : a*b, [bins[i] - bins[i-1] for i in xrange(1,len(bins))],y))\n",
    "    \n",
    "    return x,y"
   ]
  },
  {
   "cell_type": "code",
   "execution_count": 58,
   "metadata": {
    "collapsed": true
   },
   "outputs": [],
   "source": [
    " def plot(x,y, log = True, xsize = 8, ysize = 3, xlabel=\"\", ylabel=\"\"):\n",
    "    plotted_figure = plt.figure(figsize = (xsize,ysize))\n",
    "    if log:\n",
    "        plt.loglog(x,y, '.')\n",
    "    else:\n",
    "        plt.plot(x,y, '.')\n",
    "    plt.xlabel(xlabel)\n",
    "    plt.ylabel(ylabel)\n",
    "    plt.show()\n",
    "    return plotted_figure"
   ]
  },
  {
   "cell_type": "code",
   "execution_count": 60,
   "metadata": {
    "collapsed": true
   },
   "outputs": [],
   "source": [
    "G = news_net"
   ]
  },
  {
   "cell_type": "markdown",
   "metadata": {},
   "source": [
    "## Density of the network"
   ]
  },
  {
   "cell_type": "code",
   "execution_count": 62,
   "metadata": {},
   "outputs": [
    {
     "name": "stdout",
     "output_type": "stream",
     "text": [
      "11032\n",
      "22898\n"
     ]
    }
   ],
   "source": [
    "N = G.number_of_nodes()\n",
    "print N\n",
    "E = G.number_of_edges()\n",
    "print E"
   ]
  },
  {
   "cell_type": "code",
   "execution_count": 63,
   "metadata": {},
   "outputs": [
    {
     "name": "stdout",
     "output_type": "stream",
     "text": [
      "0.000376320960857\n"
     ]
    }
   ],
   "source": [
    "D = E/(N*(N-1)/2.)\n",
    "print D"
   ]
  },
  {
   "cell_type": "markdown",
   "metadata": {},
   "source": [
    "## Degree Distribution"
   ]
  },
  {
   "cell_type": "code",
   "execution_count": 64,
   "metadata": {},
   "outputs": [
    {
     "data": {
      "image/png": "[encoded data removed]",
      "text/plain": [
       "<matplotlib.figure.Figure at 0x11123f0d0>"
      ]
     },
     "metadata": {},
     "output_type": "display_data"
    }
   ],
   "source": [
    "x,y = get_binned_distribution(G.degree().values(), log_binning=True)\n",
    "_ = plot(x,y, xlabel=r\"$k$\", ylabel=r\"$p_{k}$\")"
   ]
  },
  {
   "cell_type": "code",
   "execution_count": 65,
   "metadata": {},
   "outputs": [
    {
     "name": "stdout",
     "output_type": "stream",
     "text": [
      "The network is not connected\n"
     ]
    }
   ],
   "source": [
    "if nx.is_connected(G):\n",
    "    print \"The network is connected\"\n",
    "else:\n",
    "    print \"The network is not connected\""
   ]
  },
  {
   "cell_type": "markdown",
   "metadata": {},
   "source": [
    "## Exploring Pagerank"
   ]
  },
  {
   "cell_type": "code",
   "execution_count": 67,
   "metadata": {},
   "outputs": [
    {
     "data": {
      "text/plain": [
       "[('sheikh hasina', 0.006856654666469954),\n",
       " ('khaleda zia', 0.004882158751215923),\n",
       " ('khaleda', 0.004157961698432365),\n",
       " ('hasina', 0.0037332890281961822),\n",
       " ('ershad', 0.002759687243959488),\n",
       " ('rab', 0.0022560853199691663),\n",
       " ('hossain', 0.002025513878755672),\n",
       " ('rahman', 0.0019985986890039696),\n",
       " ('monirul', 0.0019414131675543592),\n",
       " ('nizami', 0.001826097869262556),\n",
       " ('khokon', 0.0016807791315876768),\n",
       " ('babul', 0.001663506740730791),\n",
       " ('nur hossain', 0.0015478675129495638),\n",
       " ('zia', 0.0015396825649786512),\n",
       " ('fakhrul', 0.0014061678906236205),\n",
       " ('mizanur rahman', 0.0014023316306390774),\n",
       " ('kamal', 0.0013839428036941828),\n",
       " ('tarique rahman', 0.0013565837203735017),\n",
       " ('jahangir', 0.001269114171609387),\n",
       " ('shamim', 0.0012603502334476776)]"
      ]
     },
     "execution_count": 67,
     "metadata": {},
     "output_type": "execute_result"
    }
   ],
   "source": [
    "pr_G = nx.pagerank(G)\n",
    "sorted(pr_G.items(),key = lambda x:x[1], reverse= True)[:20]"
   ]
  },
  {
   "cell_type": "code",
   "execution_count": null,
   "metadata": {},
   "outputs": [],
   "source": [
    "bn_without_weight = nx.betweenness_centrality(G)\n",
    "sorted(bn_without_weight.items(),key = itemgetter(1), reverse= True)[:20]"
   ]
  },
  {
   "cell_type": "markdown",
   "metadata": {},
   "source": [
    "## Exploring K-Coreness"
   ]
  },
  {
   "cell_type": "code",
   "execution_count": 70,
   "metadata": {
    "collapsed": true
   },
   "outputs": [],
   "source": [
    "G.remove_edges_from(G.selfloop_edges())"
   ]
  },
  {
   "cell_type": "code",
   "execution_count": 73,
   "metadata": {},
   "outputs": [
    {
     "data": {
      "text/plain": [
       "[('khaleda zia', 12),\n",
       " ('mirza fakhrul islam alamgir', 12),\n",
       " ('bangabandhu sheikh mujibur rahman', 12),\n",
       " ('ziaur rahman', 12),\n",
       " ('hanif', 12),\n",
       " ('zia', 12),\n",
       " ('rahman', 12),\n",
       " ('sheikh mujibur rahman', 12),\n",
       " ('tarique rahman', 12),\n",
       " ('fakhrul', 12),\n",
       " ('hasina', 12),\n",
       " ('mujib', 12),\n",
       " ('tarique', 12),\n",
       " ('bangabandhu', 12),\n",
       " ('sheikh hasina', 12),\n",
       " ('khaleda', 12),\n",
       " ('sheikh mujib', 12),\n",
       " ('osman', 11),\n",
       " ('nazrul islam', 11),\n",
       " ('moudud', 11),\n",
       " ('suranjit sengupta', 11),\n",
       " ('hossain', 11),\n",
       " ('suranjit', 11),\n",
       " ('akram', 11),\n",
       " ('nur hossain', 11),\n",
       " ('latif siddique', 11),\n",
       " ('mahbubulalam hanif', 11),\n",
       " ('mahbubul alam hanif', 11),\n",
       " ('mohammad nasim', 11),\n",
       " ('siddique', 11),\n",
       " ('rizvi', 11),\n",
       " ('koko', 11),\n",
       " ('shahidul', 11),\n",
       " ('shamim osman', 11),\n",
       " ('nazrul', 11),\n",
       " ('nasim', 11),\n",
       " ('nur', 11),\n",
       " ('ruhul kabir rizvi', 11),\n",
       " ('shamim', 11),\n",
       " ('abdul hamid', 11),\n",
       " ('hasan mahmud', 11),\n",
       " ('joy', 11),\n",
       " ('begum khaleda zia', 11),\n",
       " ('latif', 11),\n",
       " ('mirza fakhrul', 11),\n",
       " ('kamal', 11),\n",
       " ('ershad', 11),\n",
       " ('mahfuz anam', 10),\n",
       " ('abdul quader molla', 10),\n",
       " ('mizanur rahman', 10),\n",
       " ('alam', 10),\n",
       " ('sajeeb wazed joy', 10),\n",
       " ('tarek', 10),\n",
       " ('chairperson khaleda zia', 10),\n",
       " ('khokon', 10),\n",
       " ('anwar hossain', 10),\n",
       " ('shafik rehman', 10),\n",
       " ('matia chowdhury', 10),\n",
       " ('hefazat', 10),\n",
       " ('rafiqul', 10),\n",
       " ('monirul', 10),\n",
       " ('ruhul kabir', 10),\n",
       " ('jahangir', 10),\n",
       " ('ashraf', 10),\n",
       " ('abdul latif', 10),\n",
       " ('mahbubey alam', 10),\n",
       " ('syed ashraful islam', 10),\n",
       " ('muhith', 10),\n",
       " ('hannan', 10),\n",
       " ('abdul latif siddique', 10),\n",
       " ('hasan', 10),\n",
       " ('salam', 10),\n",
       " ('obaidul quader', 10),\n",
       " ('modi', 10),\n",
       " ('salahuddin', 10),\n",
       " ('habibur rahman', 10),\n",
       " ('babul', 10),\n",
       " ('quader molla', 10),\n",
       " ('mosharraf', 10),\n",
       " ('abul kalam azad', 10),\n",
       " ('shah alam', 10),\n",
       " ('khoka', 10),\n",
       " ('amir hossain', 10),\n",
       " ('mahbub', 10),\n",
       " ('jasim', 10),\n",
       " ('mirza abbas', 10),\n",
       " ('rana', 10),\n",
       " ('rab', 10),\n",
       " ('habib', 10),\n",
       " ('rafiqul islam miah', 10),\n",
       " ('abdus salam', 10),\n",
       " ('mahbubur rahman', 10),\n",
       " ('anwar', 10),\n",
       " ('kamal hossain', 10),\n",
       " ('asaduzzaman khan kamal', 10),\n",
       " ('shirin sharmin chaudhury', 10),\n",
       " ('abbas', 10),\n",
       " ('sohel', 10),\n",
       " ('jamal uddin', 9),\n",
       " ('alamgir hossain', 9)]"
      ]
     },
     "execution_count": 73,
     "metadata": {},
     "output_type": "execute_result"
    }
   ],
   "source": [
    "sorted(nx.core_number(G).items(), key= lambda x:x[1], reverse=True)[:100]"
   ]
  }
 ],
 "metadata": {
  "kernelspec": {
   "display_name": "Python 2",
   "language": "python",
   "name": "python2"
  },
  "language_info": {
   "codemirror_mode": {
    "name": "ipython",
    "version": 2
   },
   "file_extension": ".py",
   "mimetype": "text/x-python",
   "name": "python",
   "nbconvert_exporter": "python",
   "pygments_lexer": "ipython2",
   "version": "2.7.13"
  }
 },
 "nbformat": 4,
 "nbformat_minor": 2
}
