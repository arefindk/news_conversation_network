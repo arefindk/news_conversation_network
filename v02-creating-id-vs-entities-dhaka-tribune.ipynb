{
 "cells": [
  {
   "cell_type": "code",
   "execution_count": 5,
   "metadata": {
    "collapsed": true
   },
   "outputs": [],
   "source": [
    "import json\n",
    "import csv\n",
    "from dateutil import parser"
   ]
  },
  {
   "cell_type": "code",
   "execution_count": 6,
   "metadata": {
    "collapsed": true
   },
   "outputs": [],
   "source": [
    "def make_it_ascii(string):\n",
    "    \"\"\"\n",
    "    This function works well on Python3. If Python2 raises \"SyntaxError: Non-ASCII character\",\n",
    "    try adding the following line at the beginning of the python file to specify encoding\n",
    "     # -*- coding: utf-8 -*-\n",
    "\n",
    "    Sample:\n",
    "        make_it_ascii('Barabási Albert-László')\n",
    "        returns 'Barabasi Albert-Laszlo'\n",
    "    :param string: str\n",
    "    :return: str\n",
    "    \"\"\"\n",
    "    import sys, unicodedata  # handle latin letters\n",
    "    if string is not None:\n",
    "        if 2 == sys.version_info.major: # python 2\n",
    "            try:\n",
    "                return unicodedata.normalize('NFKD', unicode(string, 'utf-8')).encode('ASCII', 'ignore').decode()\n",
    "            except:\n",
    "                return string.encode('ASCII','ignore').decode()\n",
    "        elif 3 == sys.version_info.major: # python 3\n",
    "            return unicodedata.normalize('NFKD', string).encode('ASCII', 'ignore').decode()\n",
    "        else:\n",
    "            raise SystemError('The current Python version is %s. This function has not been tested with this version.' % str(sys.version_info))\n",
    "    else:\n",
    "        return None"
   ]
  },
  {
   "cell_type": "code",
   "execution_count": 7,
   "metadata": {},
   "outputs": [],
   "source": [
    "with open('./datasets/bd_news_dhaka_tribune.json', 'r') as f,\\\n",
    "    open('./datasets/bd_news_dhaka_tribune_entities.csv', 'w') as write_file:\n",
    "    write_file.write('\\t'.join(['news_mongo_id','publish_date', 'persons', 'locations', 'organizations']))\n",
    "    for line in f:\n",
    "        line = json.loads(line)\n",
    "        news_mongo_id = line['_id']['$oid']\n",
    "        #print news_mongo_id\n",
    "        publish_date = line[u'news_publish_date']['$date']\n",
    "        #print publish_date\n",
    "        persons = ','.join(map(make_it_ascii, line['news_ner_tags']['persons_unique']))\n",
    "        locations = ','.join(map(make_it_ascii, line['news_ner_tags']['locations_unique']))\n",
    "        organizations = ','.join(map(make_it_ascii,line['news_ner_tags']['organizations_unique']))\n",
    "        #print persons\n",
    "        #print locations\n",
    "        #print organizations\n",
    "        write_file.write('\\t'.join([news_mongo_id, publish_date, persons, locations, organizations]))\n",
    "        write_file.write('\\n')"
   ]
  }
 ],
 "metadata": {
  "kernelspec": {
   "display_name": "Python 2",
   "language": "python",
   "name": "python2"
  },
  "language_info": {
   "codemirror_mode": {
    "name": "ipython",
    "version": 2
   },
   "file_extension": ".py",
   "mimetype": "text/x-python",
   "name": "python",
   "nbconvert_exporter": "python",
   "pygments_lexer": "ipython2",
   "version": "2.7.13"
  }
 },
 "nbformat": 4,
 "nbformat_minor": 2
}
